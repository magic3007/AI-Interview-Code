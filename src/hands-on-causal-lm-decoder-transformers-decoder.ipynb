{
 "cells": [
  {
   "cell_type": "markdown",
   "metadata": {},
   "source": [
    "- CausalLM decoder的流程是 input-> MHA -> FFN. 其中[MHA，FFN]是一个block，会有很多个blcok\n",
    "- FFN包括5个操作：升维度(h->4h)，激活函数，降维度(4h->h)，dropout和norm。\n",
    "- 激活函数上，其中 LLaMA 对于 GPT 的改进还有把 GeLU 变成了 SwishGLU，多了一个矩阵。所以一般升维会从 4h -> 4h * 2 / 3\n",
    "- normalization上，原版的 transformers 用 post-norm, 后面 gpt2, llama 系列用的是 pre-norm。\n",
    "- normalization上，llama 系列一般用 RMSNorm 代替 GPT and transformers decoder 中的 LayerNorm。"
   ]
  },
  {
   "cell_type": "code",
   "execution_count": 5,
   "metadata": {},
   "outputs": [],
   "source": [
    "import torch\n",
    "import torch.nn as nn\n",
    "import math"
   ]
  },
  {
   "cell_type": "code",
   "execution_count": 24,
   "metadata": {},
   "outputs": [],
   "source": [
    "class DecoderBlock(nn.Module):\n",
    "    def __init__(self, hidden_dim:int, num_heads: int, dropout_p: float=0.1):\n",
    "        super().__init__()\n",
    "        self.hidden_dim = hidden_dim\n",
    "        # MHA block\n",
    "        # MHA block有output projection，dropout和layer normalization，但是没有激活函数\n",
    "        assert hidden_dim % num_heads == 0\n",
    "        self.num_heads = num_heads\n",
    "        self.head_dim = hidden_dim // num_heads\n",
    "\n",
    "        self.qkv_proj = nn.Linear(hidden_dim, hidden_dim * 3)\n",
    "        self.o_proj = nn.Linear(hidden_dim, hidden_dim)\n",
    "        self.drop_att = nn.Dropout(dropout_p)\n",
    "        self.norm_att = nn.LayerNorm(hidden_dim, eps=1e-5)\n",
    "\n",
    "        # FFN block\n",
    "        # FFN block的流程是升维，激活，降维，droupout，然后是normaliation\n",
    "        self.up_proj = nn.Linear(hidden_dim, hidden_dim * 4)\n",
    "        self.down_proj = nn.Linear(hidden_dim * 4, hidden_dim)\n",
    "        self.act_ffn = nn.ReLU()\n",
    "        self.drop_ffn = nn.Dropout(dropout_p)\n",
    "        self.norm_ffn = nn.LayerNorm(hidden_dim, eps=1e-5)\n",
    "\n",
    "    def att_block(self, X, att_mask):\n",
    "        batch_size, seq_len, _ = X.shape\n",
    "        QKV = self.qkv_proj(X)\n",
    "        Q, K, V = torch.split(QKV, self.hidden_dim, dim=-1)\n",
    "\n",
    "        # (b, s, hidden_dim) -> (b, s, head_dim * num_heads) -> (b, s, num_heads, head_dim) -> (b, num_heads, s, head_dim)\n",
    "        q_state = torch.einsum('bsnh -> bnsh', Q.view(batch_size, seq_len, self.num_heads, self.head_dim))\n",
    "        k_state = torch.einsum('bsnh -> bnsh', K.view(batch_size, seq_len, self.num_heads, self.head_dim))\n",
    "        v_state = torch.einsum('bsnh -> bnsh', V.view(batch_size, seq_len, self.num_heads, self.head_dim))\n",
    "\n",
    "        # (b, num_heads, s, s)\n",
    "        att_value = (q_state @ k_state.transpose(-1, -2)) / math.sqrt(self.head_dim)\n",
    "\n",
    "        if att_mask is not None:\n",
    "            # 变成下三角矩阵\n",
    "            att_mask = att_mask.tril()\n",
    "        else:\n",
    "            att_mask = torch.ones_like(att_value).tril()\n",
    "\n",
    "        att_value.masked_fill_(att_mask == 0, float('-inf'))\n",
    "\n",
    "        att_weight = self.drop_att(torch.softmax(att_value, dim=-1)) # (b, num_heads, s, s)\n",
    "        o_state = att_weight @ v_state # (b, num_heads, s, head_dim)\n",
    "        O = o_state.transpose(1,2).contiguous().view(batch_size, seq_len, -1)\n",
    "        output = self.o_proj(O)\n",
    "\n",
    "        return self.norm_att(X + output)\n",
    "\n",
    "    def ffn_block(self, X):\n",
    "        up = self.act_ffn(self.up_proj(X))\n",
    "        down = self.down_proj(up)\n",
    "        down = self.drop_ffn(down)\n",
    "        return self.norm_ffn(X + down)\n",
    "\n",
    "    def forward(self, X: torch.tensor, att_mask=None):\n",
    "        # X'shape: (batch, seq, hidden_dum)\n",
    "        # att_mask's shape: (batch, num_heads, seq, seq)\n",
    "        att_output = self.att_block(X, att_mask)\n",
    "        ffn_output = self.ffn_block(att_output)\n",
    "        return ffn_output\n",
    "\n"
   ]
  },
  {
   "cell_type": "code",
   "execution_count": 25,
   "metadata": {},
   "outputs": [
    {
     "data": {
      "text/html": [
       "<pre style=\"white-space:pre;overflow-x:auto;line-height:normal;font-family:Menlo,'DejaVu Sans Mono',consolas,'Courier New',monospace\"><span style=\"color: #800080; text-decoration-color: #800080; font-weight: bold\">torch.Size</span><span style=\"font-weight: bold\">([</span><span style=\"color: #008080; text-decoration-color: #008080; font-weight: bold\">3</span>, <span style=\"color: #008080; text-decoration-color: #008080; font-weight: bold\">4</span>, <span style=\"color: #008080; text-decoration-color: #008080; font-weight: bold\">64</span><span style=\"font-weight: bold\">])</span>\n",
       "</pre>\n"
      ],
      "text/plain": [
       "\u001b[1;35mtorch.Size\u001b[0m\u001b[1m(\u001b[0m\u001b[1m[\u001b[0m\u001b[1;36m3\u001b[0m, \u001b[1;36m4\u001b[0m, \u001b[1;36m64\u001b[0m\u001b[1m]\u001b[0m\u001b[1m)\u001b[0m\n"
      ]
     },
     "metadata": {},
     "output_type": "display_data"
    }
   ],
   "source": [
    "x = torch.rand(3, 4, 64) # batch=3, seq=4, hidden_dim=64\n",
    "net = DecoderBlock(64, 8) # num_heads=8\n",
    "mask = (\n",
    "    torch.tensor([[1, 1, 1, 1], [1, 1, 0, 0], [1, 1, 1, 0]])\n",
    "    .unsqueeze(1)\n",
    "    .unsqueeze(2)\n",
    "    .repeat(1, 8, 4, 1)\n",
    ")\n",
    "net(x, mask).shape"
   ]
  },
  {
   "cell_type": "code",
   "execution_count": null,
   "metadata": {},
   "outputs": [],
   "source": []
  }
 ],
 "metadata": {
  "kernelspec": {
   "display_name": "base",
   "language": "python",
   "name": "python3"
  },
  "language_info": {
   "codemirror_mode": {
    "name": "ipython",
    "version": 3
   },
   "file_extension": ".py",
   "mimetype": "text/x-python",
   "name": "python",
   "nbconvert_exporter": "python",
   "pygments_lexer": "ipython3",
   "version": "3.10.14"
  }
 },
 "nbformat": 4,
 "nbformat_minor": 2
}
