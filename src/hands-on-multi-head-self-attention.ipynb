{
 "cells": [
  {
   "cell_type": "markdown",
   "metadata": {},
   "source": [
    "# Multi-head Self-Attention (MHA) 多头自注意力\n",
    "\n",
    "$$\n",
    "head_i = Attention(Q_i, K_i, V_i)\n",
    "$$\n",
    "$$\n",
    "MultiHead = Concat(head_1, head_2, \\ldots, head_h)W^O"
   ]
  },
  {
   "cell_type": "code",
   "execution_count": 2,
   "metadata": {},
   "outputs": [],
   "source": [
    "import torch\n",
    "import torch.nn as nn\n",
    "import math"
   ]
  },
  {
   "cell_type": "code",
   "execution_count": 3,
   "metadata": {},
   "outputs": [],
   "source": [
    "\n",
    "class MultiHeadAttention(nn.Module):\n",
    "    def __init__(self, hidden_dim: int, num_heads: int, att_drop_p: float = 0.1):\n",
    "        super().__init__()\n",
    "        self.hidden_dim = hidden_dim\n",
    "        self.num_heads = num_heads\n",
    "        assert hidden_dim % num_heads == 0\n",
    "        self.head_dim = hidden_dim // num_heads\n",
    "        self.qkv_proj = nn.Linear(hidden_dim, hidden_dim * 3)\n",
    "        self.o_proj = nn.Linear(hidden_dim, hidden_dim)\n",
    "        self.att_drop = nn.Dropout(att_drop_p)\n",
    "\n",
    "    def forward(self, X:torch.Tensor, att_mask:torch.Tensor):\n",
    "        # att_mask's shape: (b, num_heads, s, s)\n",
    "        batch_size, seq_len, _ = X.shape\n",
    "        QKV = self.qkv_proj(X)\n",
    "        Q, K, V = torch.split(QKV, self.hidden_dim, dim=-1) # shape: (b, s, h)\n",
    "\n",
    "        # (b, s, hidden_dim) -> (b, s, head_dim * num_heads) -> (b, s, num_heads, head_dim) -> (b, num_heads, s, head_dim)\n",
    "        q_state = torch.einsum('bsnh -> bnsh', Q.view(batch_size, seq_len, self.num_heads, self.head_dim))\n",
    "        k_state = torch.einsum('bsnh -> bnsh', K.view(batch_size, seq_len, self.num_heads, self.head_dim))\n",
    "        v_state = torch.einsum('bsnh -> bnsh', V.view(batch_size, seq_len, self.num_heads, self.head_dim))\n",
    "\n",
    "        # (b, num_heads, s, s)\n",
    "        att_value = (q_state @ k_state.transpose(-1, -2)) / math.sqrt(self.head_dim)\n",
    "        if att_mask is not None:\n",
    "            att_value.masked_fill_(att_mask == 0, float('-inf'))\n",
    "        att_weight = self.att_drop(torch.softmax(att_value, dim=-1)) # (b, num_heads, s, s)\n",
    "        o_state = att_weight @ v_state # (b, num_heads, s, head_dim)\n",
    "        O = o_state.transpose(1,2).contiguous().view(batch_size, seq_len, -1)\n",
    "        output = self.o_proj(O)\n",
    "        return output"
   ]
  },
  {
   "cell_type": "code",
   "execution_count": 4,
   "metadata": {},
   "outputs": [
    {
     "data": {
      "text/html": [
       "<pre style=\"white-space:pre;overflow-x:auto;line-height:normal;font-family:Menlo,'DejaVu Sans Mono',consolas,'Courier New',monospace\"><span style=\"color: #800080; text-decoration-color: #800080; font-weight: bold\">torch.Size</span><span style=\"font-weight: bold\">([</span><span style=\"color: #008080; text-decoration-color: #008080; font-weight: bold\">3</span>, <span style=\"color: #008080; text-decoration-color: #008080; font-weight: bold\">2</span>, <span style=\"color: #008080; text-decoration-color: #008080; font-weight: bold\">128</span><span style=\"font-weight: bold\">])</span>\n",
       "</pre>\n"
      ],
      "text/plain": [
       "\u001b[1;35mtorch.Size\u001b[0m\u001b[1m(\u001b[0m\u001b[1m[\u001b[0m\u001b[1;36m3\u001b[0m, \u001b[1;36m2\u001b[0m, \u001b[1;36m128\u001b[0m\u001b[1m]\u001b[0m\u001b[1m)\u001b[0m\n"
      ]
     },
     "metadata": {},
     "output_type": "display_data"
    }
   ],
   "source": [
    "\n",
    "attention_mask = (\n",
    "    torch.tensor(\n",
    "        [\n",
    "            [0, 1],\n",
    "            [0, 0],\n",
    "            [1, 0],\n",
    "        ]\n",
    "    )\n",
    "    .unsqueeze(1)\n",
    "    .unsqueeze(2)\n",
    "    .expand(3, 8, 2, 2)\n",
    ")\n",
    "\n",
    "x = torch.rand(3, 2, 128) # b=3, s=2, hidden_dim=128\n",
    "net = MultiHeadAttention(128, 8) # num_heads=8, hidden_dim=128, head_dim=18\n",
    "net(x, attention_mask).shape"
   ]
  },
  {
   "cell_type": "code",
   "execution_count": null,
   "metadata": {},
   "outputs": [],
   "source": []
  }
 ],
 "metadata": {
  "kernelspec": {
   "display_name": "base",
   "language": "python",
   "name": "python3"
  },
  "language_info": {
   "codemirror_mode": {
    "name": "ipython",
    "version": 3
   },
   "file_extension": ".py",
   "mimetype": "text/x-python",
   "name": "python",
   "nbconvert_exporter": "python",
   "pygments_lexer": "ipython3",
   "version": "3.10.14"
  }
 },
 "nbformat": 4,
 "nbformat_minor": 2
}
