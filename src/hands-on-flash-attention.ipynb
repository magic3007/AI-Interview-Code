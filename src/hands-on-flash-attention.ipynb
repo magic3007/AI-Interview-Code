{
 "cells": [
  {
   "cell_type": "code",
   "execution_count": 125,
   "metadata": {},
   "outputs": [],
   "source": [
    "import torch\n",
    "import math"
   ]
  },
  {
   "cell_type": "code",
   "execution_count": 126,
   "metadata": {},
   "outputs": [],
   "source": [
    "\n",
    "X = torch.randn(256)"
   ]
  },
  {
   "cell_type": "markdown",
   "metadata": {},
   "source": []
  },
  {
   "cell_type": "code",
   "execution_count": 127,
   "metadata": {},
   "outputs": [
    {
     "data": {
      "text/html": [
       "<pre style=\"white-space:pre;overflow-x:auto;line-height:normal;font-family:Menlo,'DejaVu Sans Mono',consolas,'Courier New',monospace\"><span style=\"color: #800080; text-decoration-color: #800080; font-weight: bold\">tensor</span><span style=\"font-weight: bold\">([</span><span style=\"color: #008080; text-decoration-color: #008080; font-weight: bold\">2.7278e-03</span>, <span style=\"color: #008080; text-decoration-color: #008080; font-weight: bold\">9.7951e-04</span>, <span style=\"color: #008080; text-decoration-color: #008080; font-weight: bold\">1.1875e-03</span>, <span style=\"color: #008080; text-decoration-color: #008080; font-weight: bold\">2.3093e-03</span>, <span style=\"color: #008080; text-decoration-color: #008080; font-weight: bold\">1.4092e-03</span>, <span style=\"color: #008080; text-decoration-color: #008080; font-weight: bold\">5.7963e-03</span>,\n",
       "        <span style=\"color: #008080; text-decoration-color: #008080; font-weight: bold\">2.4905e-03</span>, <span style=\"color: #008080; text-decoration-color: #008080; font-weight: bold\">1.0308e-03</span>, <span style=\"color: #008080; text-decoration-color: #008080; font-weight: bold\">8.6299e-03</span>, <span style=\"color: #008080; text-decoration-color: #008080; font-weight: bold\">1.3255e-03</span>, <span style=\"color: #008080; text-decoration-color: #008080; font-weight: bold\">2.1113e-03</span>, <span style=\"color: #008080; text-decoration-color: #008080; font-weight: bold\">4.3850e-03</span>,\n",
       "        <span style=\"color: #008080; text-decoration-color: #008080; font-weight: bold\">1.4579e-03</span>, <span style=\"color: #008080; text-decoration-color: #008080; font-weight: bold\">1.2460e-03</span>, <span style=\"color: #008080; text-decoration-color: #008080; font-weight: bold\">1.5303e-03</span>, <span style=\"color: #008080; text-decoration-color: #008080; font-weight: bold\">6.5837e-04</span>, <span style=\"color: #008080; text-decoration-color: #008080; font-weight: bold\">1.2620e-03</span>, <span style=\"color: #008080; text-decoration-color: #008080; font-weight: bold\">2.1632e-03</span>,\n",
       "        <span style=\"color: #008080; text-decoration-color: #008080; font-weight: bold\">2.5061e-03</span>, <span style=\"color: #008080; text-decoration-color: #008080; font-weight: bold\">9.5478e-03</span>, <span style=\"color: #008080; text-decoration-color: #008080; font-weight: bold\">1.3501e-03</span>, <span style=\"color: #008080; text-decoration-color: #008080; font-weight: bold\">1.0172e-02</span>, <span style=\"color: #008080; text-decoration-color: #008080; font-weight: bold\">3.6166e-02</span>, <span style=\"color: #008080; text-decoration-color: #008080; font-weight: bold\">6.2668e-03</span>,\n",
       "        <span style=\"color: #008080; text-decoration-color: #008080; font-weight: bold\">2.3637e-03</span>, <span style=\"color: #008080; text-decoration-color: #008080; font-weight: bold\">4.7929e-03</span>, <span style=\"color: #008080; text-decoration-color: #008080; font-weight: bold\">1.7189e-03</span>, <span style=\"color: #008080; text-decoration-color: #008080; font-weight: bold\">3.7752e-03</span>, <span style=\"color: #008080; text-decoration-color: #008080; font-weight: bold\">2.0311e-03</span>, <span style=\"color: #008080; text-decoration-color: #008080; font-weight: bold\">3.1141e-03</span>,\n",
       "        <span style=\"color: #008080; text-decoration-color: #008080; font-weight: bold\">4.0896e-03</span>, <span style=\"color: #008080; text-decoration-color: #008080; font-weight: bold\">1.4601e-03</span>, <span style=\"color: #008080; text-decoration-color: #008080; font-weight: bold\">3.9749e-03</span>, <span style=\"color: #008080; text-decoration-color: #008080; font-weight: bold\">1.7208e-02</span>, <span style=\"color: #008080; text-decoration-color: #008080; font-weight: bold\">6.7663e-03</span>, <span style=\"color: #008080; text-decoration-color: #008080; font-weight: bold\">3.8070e-03</span>,\n",
       "        <span style=\"color: #008080; text-decoration-color: #008080; font-weight: bold\">1.8211e-03</span>, <span style=\"color: #008080; text-decoration-color: #008080; font-weight: bold\">3.0130e-03</span>, <span style=\"color: #008080; text-decoration-color: #008080; font-weight: bold\">6.7097e-03</span>, <span style=\"color: #008080; text-decoration-color: #008080; font-weight: bold\">5.3765e-04</span>, <span style=\"color: #008080; text-decoration-color: #008080; font-weight: bold\">9.8571e-04</span>, <span style=\"color: #008080; text-decoration-color: #008080; font-weight: bold\">2.5792e-03</span>,\n",
       "        <span style=\"color: #008080; text-decoration-color: #008080; font-weight: bold\">5.8088e-04</span>, <span style=\"color: #008080; text-decoration-color: #008080; font-weight: bold\">1.0993e-03</span>, <span style=\"color: #008080; text-decoration-color: #008080; font-weight: bold\">1.3862e-02</span>, <span style=\"color: #008080; text-decoration-color: #008080; font-weight: bold\">6.9118e-03</span>, <span style=\"color: #008080; text-decoration-color: #008080; font-weight: bold\">1.5507e-02</span>, <span style=\"color: #008080; text-decoration-color: #008080; font-weight: bold\">1.6613e-03</span>,\n",
       "        <span style=\"color: #008080; text-decoration-color: #008080; font-weight: bold\">7.9623e-03</span>, <span style=\"color: #008080; text-decoration-color: #008080; font-weight: bold\">3.2208e-03</span>, <span style=\"color: #008080; text-decoration-color: #008080; font-weight: bold\">1.9265e-03</span>, <span style=\"color: #008080; text-decoration-color: #008080; font-weight: bold\">2.3472e-03</span>, <span style=\"color: #008080; text-decoration-color: #008080; font-weight: bold\">1.8921e-03</span>, <span style=\"color: #008080; text-decoration-color: #008080; font-weight: bold\">9.8892e-03</span>,\n",
       "        <span style=\"color: #008080; text-decoration-color: #008080; font-weight: bold\">4.2900e-03</span>, <span style=\"color: #008080; text-decoration-color: #008080; font-weight: bold\">2.6016e-03</span>, <span style=\"color: #008080; text-decoration-color: #008080; font-weight: bold\">1.8226e-03</span>, <span style=\"color: #008080; text-decoration-color: #008080; font-weight: bold\">8.4242e-03</span>, <span style=\"color: #008080; text-decoration-color: #008080; font-weight: bold\">9.5174e-04</span>, <span style=\"color: #008080; text-decoration-color: #008080; font-weight: bold\">4.9633e-03</span>,\n",
       "        <span style=\"color: #008080; text-decoration-color: #008080; font-weight: bold\">7.0350e-04</span>, <span style=\"color: #008080; text-decoration-color: #008080; font-weight: bold\">8.8302e-03</span>, <span style=\"color: #008080; text-decoration-color: #008080; font-weight: bold\">1.3671e-03</span>, <span style=\"color: #008080; text-decoration-color: #008080; font-weight: bold\">1.0156e-02</span>, <span style=\"color: #008080; text-decoration-color: #008080; font-weight: bold\">8.6029e-04</span>, <span style=\"color: #008080; text-decoration-color: #008080; font-weight: bold\">5.0059e-03</span>,\n",
       "        <span style=\"color: #008080; text-decoration-color: #008080; font-weight: bold\">2.4312e-03</span>, <span style=\"color: #008080; text-decoration-color: #008080; font-weight: bold\">5.3595e-04</span>, <span style=\"color: #008080; text-decoration-color: #008080; font-weight: bold\">5.9013e-04</span>, <span style=\"color: #008080; text-decoration-color: #008080; font-weight: bold\">1.8752e-03</span>, <span style=\"color: #008080; text-decoration-color: #008080; font-weight: bold\">3.2629e-03</span>, <span style=\"color: #008080; text-decoration-color: #008080; font-weight: bold\">3.0918e-03</span>,\n",
       "        <span style=\"color: #008080; text-decoration-color: #008080; font-weight: bold\">2.1107e-03</span>, <span style=\"color: #008080; text-decoration-color: #008080; font-weight: bold\">4.4523e-03</span>, <span style=\"color: #008080; text-decoration-color: #008080; font-weight: bold\">1.0150e-03</span>, <span style=\"color: #008080; text-decoration-color: #008080; font-weight: bold\">9.8541e-04</span>, <span style=\"color: #008080; text-decoration-color: #008080; font-weight: bold\">2.8177e-03</span>, <span style=\"color: #008080; text-decoration-color: #008080; font-weight: bold\">1.7277e-03</span>,\n",
       "        <span style=\"color: #008080; text-decoration-color: #008080; font-weight: bold\">4.9750e-03</span>, <span style=\"color: #008080; text-decoration-color: #008080; font-weight: bold\">1.7436e-03</span>, <span style=\"color: #008080; text-decoration-color: #008080; font-weight: bold\">2.3593e-03</span>, <span style=\"color: #008080; text-decoration-color: #008080; font-weight: bold\">2.4758e-03</span>, <span style=\"color: #008080; text-decoration-color: #008080; font-weight: bold\">1.2806e-03</span>, <span style=\"color: #008080; text-decoration-color: #008080; font-weight: bold\">1.6628e-03</span>,\n",
       "        <span style=\"color: #008080; text-decoration-color: #008080; font-weight: bold\">1.4616e-02</span>, <span style=\"color: #008080; text-decoration-color: #008080; font-weight: bold\">2.7872e-04</span>, <span style=\"color: #008080; text-decoration-color: #008080; font-weight: bold\">3.5037e-03</span>, <span style=\"color: #008080; text-decoration-color: #008080; font-weight: bold\">7.8836e-03</span>, <span style=\"color: #008080; text-decoration-color: #008080; font-weight: bold\">1.0472e-03</span>, <span style=\"color: #008080; text-decoration-color: #008080; font-weight: bold\">2.0209e-03</span>,\n",
       "        <span style=\"color: #008080; text-decoration-color: #008080; font-weight: bold\">1.3435e-03</span>, <span style=\"color: #008080; text-decoration-color: #008080; font-weight: bold\">1.9997e-03</span>, <span style=\"color: #008080; text-decoration-color: #008080; font-weight: bold\">2.2199e-03</span>, <span style=\"color: #008080; text-decoration-color: #008080; font-weight: bold\">8.7710e-04</span>, <span style=\"color: #008080; text-decoration-color: #008080; font-weight: bold\">1.4469e-03</span>, <span style=\"color: #008080; text-decoration-color: #008080; font-weight: bold\">1.0256e-03</span>,\n",
       "        <span style=\"color: #008080; text-decoration-color: #008080; font-weight: bold\">7.3762e-05</span>, <span style=\"color: #008080; text-decoration-color: #008080; font-weight: bold\">2.6149e-03</span>, <span style=\"color: #008080; text-decoration-color: #008080; font-weight: bold\">1.6761e-03</span>, <span style=\"color: #008080; text-decoration-color: #008080; font-weight: bold\">3.6261e-03</span>, <span style=\"color: #008080; text-decoration-color: #008080; font-weight: bold\">1.4808e-03</span>, <span style=\"color: #008080; text-decoration-color: #008080; font-weight: bold\">1.6168e-03</span>,\n",
       "        <span style=\"color: #008080; text-decoration-color: #008080; font-weight: bold\">1.0901e-03</span>, <span style=\"color: #008080; text-decoration-color: #008080; font-weight: bold\">9.2691e-03</span>, <span style=\"color: #008080; text-decoration-color: #008080; font-weight: bold\">8.1332e-03</span>, <span style=\"color: #008080; text-decoration-color: #008080; font-weight: bold\">1.5820e-03</span>, <span style=\"color: #008080; text-decoration-color: #008080; font-weight: bold\">1.3692e-03</span>, <span style=\"color: #008080; text-decoration-color: #008080; font-weight: bold\">1.4557e-03</span>,\n",
       "        <span style=\"color: #008080; text-decoration-color: #008080; font-weight: bold\">8.0928e-03</span>, <span style=\"color: #008080; text-decoration-color: #008080; font-weight: bold\">9.6484e-03</span>, <span style=\"color: #008080; text-decoration-color: #008080; font-weight: bold\">1.8758e-03</span>, <span style=\"color: #008080; text-decoration-color: #008080; font-weight: bold\">1.8115e-03</span>, <span style=\"color: #008080; text-decoration-color: #008080; font-weight: bold\">3.5242e-03</span>, <span style=\"color: #008080; text-decoration-color: #008080; font-weight: bold\">4.7058e-04</span>,\n",
       "        <span style=\"color: #008080; text-decoration-color: #008080; font-weight: bold\">1.8272e-03</span>, <span style=\"color: #008080; text-decoration-color: #008080; font-weight: bold\">2.1950e-02</span>, <span style=\"color: #008080; text-decoration-color: #008080; font-weight: bold\">5.1273e-04</span>, <span style=\"color: #008080; text-decoration-color: #008080; font-weight: bold\">5.1879e-03</span>, <span style=\"color: #008080; text-decoration-color: #008080; font-weight: bold\">1.4589e-03</span>, <span style=\"color: #008080; text-decoration-color: #008080; font-weight: bold\">1.1666e-03</span>,\n",
       "        <span style=\"color: #008080; text-decoration-color: #008080; font-weight: bold\">3.0689e-03</span>, <span style=\"color: #008080; text-decoration-color: #008080; font-weight: bold\">1.9141e-03</span>, <span style=\"color: #008080; text-decoration-color: #008080; font-weight: bold\">2.1647e-03</span>, <span style=\"color: #008080; text-decoration-color: #008080; font-weight: bold\">1.0434e-03</span>, <span style=\"color: #008080; text-decoration-color: #008080; font-weight: bold\">2.8031e-03</span>, <span style=\"color: #008080; text-decoration-color: #008080; font-weight: bold\">1.1630e-03</span>,\n",
       "        <span style=\"color: #008080; text-decoration-color: #008080; font-weight: bold\">1.8295e-03</span>, <span style=\"color: #008080; text-decoration-color: #008080; font-weight: bold\">3.2310e-03</span>, <span style=\"color: #008080; text-decoration-color: #008080; font-weight: bold\">6.2370e-03</span>, <span style=\"color: #008080; text-decoration-color: #008080; font-weight: bold\">1.4200e-03</span>, <span style=\"color: #008080; text-decoration-color: #008080; font-weight: bold\">1.0230e-03</span>, <span style=\"color: #008080; text-decoration-color: #008080; font-weight: bold\">2.0089e-03</span>,\n",
       "        <span style=\"color: #008080; text-decoration-color: #008080; font-weight: bold\">1.5495e-03</span>, <span style=\"color: #008080; text-decoration-color: #008080; font-weight: bold\">2.1222e-03</span>, <span style=\"color: #008080; text-decoration-color: #008080; font-weight: bold\">2.0888e-03</span>, <span style=\"color: #008080; text-decoration-color: #008080; font-weight: bold\">4.3751e-03</span>, <span style=\"color: #008080; text-decoration-color: #008080; font-weight: bold\">1.2270e-03</span>, <span style=\"color: #008080; text-decoration-color: #008080; font-weight: bold\">3.1880e-03</span>,\n",
       "        <span style=\"color: #008080; text-decoration-color: #008080; font-weight: bold\">5.0257e-03</span>, <span style=\"color: #008080; text-decoration-color: #008080; font-weight: bold\">5.4528e-04</span>, <span style=\"color: #008080; text-decoration-color: #008080; font-weight: bold\">7.5410e-03</span>, <span style=\"color: #008080; text-decoration-color: #008080; font-weight: bold\">2.1704e-03</span>, <span style=\"color: #008080; text-decoration-color: #008080; font-weight: bold\">5.3805e-03</span>, <span style=\"color: #008080; text-decoration-color: #008080; font-weight: bold\">1.7737e-03</span>,\n",
       "        <span style=\"color: #008080; text-decoration-color: #008080; font-weight: bold\">7.4413e-03</span>, <span style=\"color: #008080; text-decoration-color: #008080; font-weight: bold\">2.0585e-03</span>, <span style=\"color: #008080; text-decoration-color: #008080; font-weight: bold\">4.5556e-03</span>, <span style=\"color: #008080; text-decoration-color: #008080; font-weight: bold\">7.9495e-04</span>, <span style=\"color: #008080; text-decoration-color: #008080; font-weight: bold\">3.7904e-03</span>, <span style=\"color: #008080; text-decoration-color: #008080; font-weight: bold\">2.2428e-03</span>,\n",
       "        <span style=\"color: #008080; text-decoration-color: #008080; font-weight: bold\">8.6594e-04</span>, <span style=\"color: #008080; text-decoration-color: #008080; font-weight: bold\">6.5747e-03</span>, <span style=\"color: #008080; text-decoration-color: #008080; font-weight: bold\">1.3776e-03</span>, <span style=\"color: #008080; text-decoration-color: #008080; font-weight: bold\">9.3038e-04</span>, <span style=\"color: #008080; text-decoration-color: #008080; font-weight: bold\">7.3441e-03</span>, <span style=\"color: #008080; text-decoration-color: #008080; font-weight: bold\">3.5972e-03</span>,\n",
       "        <span style=\"color: #008080; text-decoration-color: #008080; font-weight: bold\">1.2152e-03</span>, <span style=\"color: #008080; text-decoration-color: #008080; font-weight: bold\">5.1727e-04</span>, <span style=\"color: #008080; text-decoration-color: #008080; font-weight: bold\">1.7770e-03</span>, <span style=\"color: #008080; text-decoration-color: #008080; font-weight: bold\">3.4995e-03</span>, <span style=\"color: #008080; text-decoration-color: #008080; font-weight: bold\">1.3624e-02</span>, <span style=\"color: #008080; text-decoration-color: #008080; font-weight: bold\">1.6583e-03</span>,\n",
       "        <span style=\"color: #008080; text-decoration-color: #008080; font-weight: bold\">9.9967e-03</span>, <span style=\"color: #008080; text-decoration-color: #008080; font-weight: bold\">7.3970e-04</span>, <span style=\"color: #008080; text-decoration-color: #008080; font-weight: bold\">2.1117e-02</span>, <span style=\"color: #008080; text-decoration-color: #008080; font-weight: bold\">1.8859e-03</span>, <span style=\"color: #008080; text-decoration-color: #008080; font-weight: bold\">2.7336e-03</span>, <span style=\"color: #008080; text-decoration-color: #008080; font-weight: bold\">2.2055e-03</span>,\n",
       "        <span style=\"color: #008080; text-decoration-color: #008080; font-weight: bold\">1.4504e-03</span>, <span style=\"color: #008080; text-decoration-color: #008080; font-weight: bold\">3.3200e-03</span>, <span style=\"color: #008080; text-decoration-color: #008080; font-weight: bold\">1.8688e-03</span>, <span style=\"color: #008080; text-decoration-color: #008080; font-weight: bold\">2.7407e-03</span>, <span style=\"color: #008080; text-decoration-color: #008080; font-weight: bold\">6.2584e-04</span>, <span style=\"color: #008080; text-decoration-color: #008080; font-weight: bold\">1.2560e-02</span>,\n",
       "        <span style=\"color: #008080; text-decoration-color: #008080; font-weight: bold\">4.8169e-03</span>, <span style=\"color: #008080; text-decoration-color: #008080; font-weight: bold\">1.1238e-03</span>, <span style=\"color: #008080; text-decoration-color: #008080; font-weight: bold\">5.3523e-03</span>, <span style=\"color: #008080; text-decoration-color: #008080; font-weight: bold\">8.0058e-03</span>, <span style=\"color: #008080; text-decoration-color: #008080; font-weight: bold\">6.6113e-04</span>, <span style=\"color: #008080; text-decoration-color: #008080; font-weight: bold\">1.6834e-03</span>,\n",
       "        <span style=\"color: #008080; text-decoration-color: #008080; font-weight: bold\">1.9350e-02</span>, <span style=\"color: #008080; text-decoration-color: #008080; font-weight: bold\">2.8838e-03</span>, <span style=\"color: #008080; text-decoration-color: #008080; font-weight: bold\">2.0368e-03</span>, <span style=\"color: #008080; text-decoration-color: #008080; font-weight: bold\">3.0039e-03</span>, <span style=\"color: #008080; text-decoration-color: #008080; font-weight: bold\">7.5243e-03</span>, <span style=\"color: #008080; text-decoration-color: #008080; font-weight: bold\">2.0190e-02</span>,\n",
       "        <span style=\"color: #008080; text-decoration-color: #008080; font-weight: bold\">1.7746e-02</span>, <span style=\"color: #008080; text-decoration-color: #008080; font-weight: bold\">3.7652e-03</span>, <span style=\"color: #008080; text-decoration-color: #008080; font-weight: bold\">6.7328e-03</span>, <span style=\"color: #008080; text-decoration-color: #008080; font-weight: bold\">2.6071e-03</span>, <span style=\"color: #008080; text-decoration-color: #008080; font-weight: bold\">2.5213e-03</span>, <span style=\"color: #008080; text-decoration-color: #008080; font-weight: bold\">7.5022e-04</span>,\n",
       "        <span style=\"color: #008080; text-decoration-color: #008080; font-weight: bold\">1.0250e-02</span>, <span style=\"color: #008080; text-decoration-color: #008080; font-weight: bold\">8.4815e-03</span>, <span style=\"color: #008080; text-decoration-color: #008080; font-weight: bold\">2.0921e-03</span>, <span style=\"color: #008080; text-decoration-color: #008080; font-weight: bold\">1.1326e-02</span>, <span style=\"color: #008080; text-decoration-color: #008080; font-weight: bold\">1.0964e-03</span>, <span style=\"color: #008080; text-decoration-color: #008080; font-weight: bold\">1.1758e-03</span>,\n",
       "        <span style=\"color: #008080; text-decoration-color: #008080; font-weight: bold\">5.9830e-03</span>, <span style=\"color: #008080; text-decoration-color: #008080; font-weight: bold\">2.7523e-03</span>, <span style=\"color: #008080; text-decoration-color: #008080; font-weight: bold\">2.4626e-03</span>, <span style=\"color: #008080; text-decoration-color: #008080; font-weight: bold\">5.3781e-03</span>, <span style=\"color: #008080; text-decoration-color: #008080; font-weight: bold\">7.7968e-04</span>, <span style=\"color: #008080; text-decoration-color: #008080; font-weight: bold\">2.0297e-03</span>,\n",
       "        <span style=\"color: #008080; text-decoration-color: #008080; font-weight: bold\">4.0720e-03</span>, <span style=\"color: #008080; text-decoration-color: #008080; font-weight: bold\">2.1088e-03</span>, <span style=\"color: #008080; text-decoration-color: #008080; font-weight: bold\">1.2128e-03</span>, <span style=\"color: #008080; text-decoration-color: #008080; font-weight: bold\">5.1451e-04</span>, <span style=\"color: #008080; text-decoration-color: #008080; font-weight: bold\">1.9766e-03</span>, <span style=\"color: #008080; text-decoration-color: #008080; font-weight: bold\">6.4895e-03</span>,\n",
       "        <span style=\"color: #008080; text-decoration-color: #008080; font-weight: bold\">1.3522e-03</span>, <span style=\"color: #008080; text-decoration-color: #008080; font-weight: bold\">7.1332e-04</span>, <span style=\"color: #008080; text-decoration-color: #008080; font-weight: bold\">6.4894e-04</span>, <span style=\"color: #008080; text-decoration-color: #008080; font-weight: bold\">8.3827e-04</span>, <span style=\"color: #008080; text-decoration-color: #008080; font-weight: bold\">2.9361e-03</span>, <span style=\"color: #008080; text-decoration-color: #008080; font-weight: bold\">2.6965e-03</span>,\n",
       "        <span style=\"color: #008080; text-decoration-color: #008080; font-weight: bold\">9.4196e-04</span>, <span style=\"color: #008080; text-decoration-color: #008080; font-weight: bold\">3.5005e-03</span>, <span style=\"color: #008080; text-decoration-color: #008080; font-weight: bold\">3.7397e-03</span>, <span style=\"color: #008080; text-decoration-color: #008080; font-weight: bold\">3.7702e-03</span>, <span style=\"color: #008080; text-decoration-color: #008080; font-weight: bold\">4.9029e-03</span>, <span style=\"color: #008080; text-decoration-color: #008080; font-weight: bold\">3.4333e-04</span>,\n",
       "        <span style=\"color: #008080; text-decoration-color: #008080; font-weight: bold\">2.3429e-03</span>, <span style=\"color: #008080; text-decoration-color: #008080; font-weight: bold\">4.2895e-03</span>, <span style=\"color: #008080; text-decoration-color: #008080; font-weight: bold\">6.9277e-03</span>, <span style=\"color: #008080; text-decoration-color: #008080; font-weight: bold\">4.1071e-04</span>, <span style=\"color: #008080; text-decoration-color: #008080; font-weight: bold\">6.9466e-04</span>, <span style=\"color: #008080; text-decoration-color: #008080; font-weight: bold\">2.5784e-03</span>,\n",
       "        <span style=\"color: #008080; text-decoration-color: #008080; font-weight: bold\">8.8763e-04</span>, <span style=\"color: #008080; text-decoration-color: #008080; font-weight: bold\">4.1872e-04</span>, <span style=\"color: #008080; text-decoration-color: #008080; font-weight: bold\">1.0700e-03</span>, <span style=\"color: #008080; text-decoration-color: #008080; font-weight: bold\">1.9523e-03</span>, <span style=\"color: #008080; text-decoration-color: #008080; font-weight: bold\">1.4162e-03</span>, <span style=\"color: #008080; text-decoration-color: #008080; font-weight: bold\">3.6430e-03</span>,\n",
       "        <span style=\"color: #008080; text-decoration-color: #008080; font-weight: bold\">1.3686e-03</span>, <span style=\"color: #008080; text-decoration-color: #008080; font-weight: bold\">7.9239e-03</span>, <span style=\"color: #008080; text-decoration-color: #008080; font-weight: bold\">1.2766e-02</span>, <span style=\"color: #008080; text-decoration-color: #008080; font-weight: bold\">6.6823e-03</span>, <span style=\"color: #008080; text-decoration-color: #008080; font-weight: bold\">2.7452e-03</span>, <span style=\"color: #008080; text-decoration-color: #008080; font-weight: bold\">1.9477e-03</span>,\n",
       "        <span style=\"color: #008080; text-decoration-color: #008080; font-weight: bold\">2.2380e-03</span>, <span style=\"color: #008080; text-decoration-color: #008080; font-weight: bold\">1.7636e-04</span>, <span style=\"color: #008080; text-decoration-color: #008080; font-weight: bold\">7.4933e-03</span>, <span style=\"color: #008080; text-decoration-color: #008080; font-weight: bold\">2.9415e-03</span>, <span style=\"color: #008080; text-decoration-color: #008080; font-weight: bold\">2.5347e-03</span>, <span style=\"color: #008080; text-decoration-color: #008080; font-weight: bold\">6.0113e-03</span>,\n",
       "        <span style=\"color: #008080; text-decoration-color: #008080; font-weight: bold\">7.2143e-03</span>, <span style=\"color: #008080; text-decoration-color: #008080; font-weight: bold\">1.1278e-02</span>, <span style=\"color: #008080; text-decoration-color: #008080; font-weight: bold\">2.1535e-03</span>, <span style=\"color: #008080; text-decoration-color: #008080; font-weight: bold\">1.4381e-03</span>, <span style=\"color: #008080; text-decoration-color: #008080; font-weight: bold\">2.4671e-03</span>, <span style=\"color: #008080; text-decoration-color: #008080; font-weight: bold\">7.1914e-03</span>,\n",
       "        <span style=\"color: #008080; text-decoration-color: #008080; font-weight: bold\">1.4348e-02</span>, <span style=\"color: #008080; text-decoration-color: #008080; font-weight: bold\">7.1015e-03</span>, <span style=\"color: #008080; text-decoration-color: #008080; font-weight: bold\">2.0603e-03</span>, <span style=\"color: #008080; text-decoration-color: #008080; font-weight: bold\">4.9865e-04</span><span style=\"font-weight: bold\">])</span>\n",
       "</pre>\n"
      ],
      "text/plain": [
       "\u001b[1;35mtensor\u001b[0m\u001b[1m(\u001b[0m\u001b[1m[\u001b[0m\u001b[1;36m2.7278e-03\u001b[0m, \u001b[1;36m9.7951e-04\u001b[0m, \u001b[1;36m1.1875e-03\u001b[0m, \u001b[1;36m2.3093e-03\u001b[0m, \u001b[1;36m1.4092e-03\u001b[0m, \u001b[1;36m5.7963e-03\u001b[0m,\n",
       "        \u001b[1;36m2.4905e-03\u001b[0m, \u001b[1;36m1.0308e-03\u001b[0m, \u001b[1;36m8.6299e-03\u001b[0m, \u001b[1;36m1.3255e-03\u001b[0m, \u001b[1;36m2.1113e-03\u001b[0m, \u001b[1;36m4.3850e-03\u001b[0m,\n",
       "        \u001b[1;36m1.4579e-03\u001b[0m, \u001b[1;36m1.2460e-03\u001b[0m, \u001b[1;36m1.5303e-03\u001b[0m, \u001b[1;36m6.5837e-04\u001b[0m, \u001b[1;36m1.2620e-03\u001b[0m, \u001b[1;36m2.1632e-03\u001b[0m,\n",
       "        \u001b[1;36m2.5061e-03\u001b[0m, \u001b[1;36m9.5478e-03\u001b[0m, \u001b[1;36m1.3501e-03\u001b[0m, \u001b[1;36m1.0172e-02\u001b[0m, \u001b[1;36m3.6166e-02\u001b[0m, \u001b[1;36m6.2668e-03\u001b[0m,\n",
       "        \u001b[1;36m2.3637e-03\u001b[0m, \u001b[1;36m4.7929e-03\u001b[0m, \u001b[1;36m1.7189e-03\u001b[0m, \u001b[1;36m3.7752e-03\u001b[0m, \u001b[1;36m2.0311e-03\u001b[0m, \u001b[1;36m3.1141e-03\u001b[0m,\n",
       "        \u001b[1;36m4.0896e-03\u001b[0m, \u001b[1;36m1.4601e-03\u001b[0m, \u001b[1;36m3.9749e-03\u001b[0m, \u001b[1;36m1.7208e-02\u001b[0m, \u001b[1;36m6.7663e-03\u001b[0m, \u001b[1;36m3.8070e-03\u001b[0m,\n",
       "        \u001b[1;36m1.8211e-03\u001b[0m, \u001b[1;36m3.0130e-03\u001b[0m, \u001b[1;36m6.7097e-03\u001b[0m, \u001b[1;36m5.3765e-04\u001b[0m, \u001b[1;36m9.8571e-04\u001b[0m, \u001b[1;36m2.5792e-03\u001b[0m,\n",
       "        \u001b[1;36m5.8088e-04\u001b[0m, \u001b[1;36m1.0993e-03\u001b[0m, \u001b[1;36m1.3862e-02\u001b[0m, \u001b[1;36m6.9118e-03\u001b[0m, \u001b[1;36m1.5507e-02\u001b[0m, \u001b[1;36m1.6613e-03\u001b[0m,\n",
       "        \u001b[1;36m7.9623e-03\u001b[0m, \u001b[1;36m3.2208e-03\u001b[0m, \u001b[1;36m1.9265e-03\u001b[0m, \u001b[1;36m2.3472e-03\u001b[0m, \u001b[1;36m1.8921e-03\u001b[0m, \u001b[1;36m9.8892e-03\u001b[0m,\n",
       "        \u001b[1;36m4.2900e-03\u001b[0m, \u001b[1;36m2.6016e-03\u001b[0m, \u001b[1;36m1.8226e-03\u001b[0m, \u001b[1;36m8.4242e-03\u001b[0m, \u001b[1;36m9.5174e-04\u001b[0m, \u001b[1;36m4.9633e-03\u001b[0m,\n",
       "        \u001b[1;36m7.0350e-04\u001b[0m, \u001b[1;36m8.8302e-03\u001b[0m, \u001b[1;36m1.3671e-03\u001b[0m, \u001b[1;36m1.0156e-02\u001b[0m, \u001b[1;36m8.6029e-04\u001b[0m, \u001b[1;36m5.0059e-03\u001b[0m,\n",
       "        \u001b[1;36m2.4312e-03\u001b[0m, \u001b[1;36m5.3595e-04\u001b[0m, \u001b[1;36m5.9013e-04\u001b[0m, \u001b[1;36m1.8752e-03\u001b[0m, \u001b[1;36m3.2629e-03\u001b[0m, \u001b[1;36m3.0918e-03\u001b[0m,\n",
       "        \u001b[1;36m2.1107e-03\u001b[0m, \u001b[1;36m4.4523e-03\u001b[0m, \u001b[1;36m1.0150e-03\u001b[0m, \u001b[1;36m9.8541e-04\u001b[0m, \u001b[1;36m2.8177e-03\u001b[0m, \u001b[1;36m1.7277e-03\u001b[0m,\n",
       "        \u001b[1;36m4.9750e-03\u001b[0m, \u001b[1;36m1.7436e-03\u001b[0m, \u001b[1;36m2.3593e-03\u001b[0m, \u001b[1;36m2.4758e-03\u001b[0m, \u001b[1;36m1.2806e-03\u001b[0m, \u001b[1;36m1.6628e-03\u001b[0m,\n",
       "        \u001b[1;36m1.4616e-02\u001b[0m, \u001b[1;36m2.7872e-04\u001b[0m, \u001b[1;36m3.5037e-03\u001b[0m, \u001b[1;36m7.8836e-03\u001b[0m, \u001b[1;36m1.0472e-03\u001b[0m, \u001b[1;36m2.0209e-03\u001b[0m,\n",
       "        \u001b[1;36m1.3435e-03\u001b[0m, \u001b[1;36m1.9997e-03\u001b[0m, \u001b[1;36m2.2199e-03\u001b[0m, \u001b[1;36m8.7710e-04\u001b[0m, \u001b[1;36m1.4469e-03\u001b[0m, \u001b[1;36m1.0256e-03\u001b[0m,\n",
       "        \u001b[1;36m7.3762e-05\u001b[0m, \u001b[1;36m2.6149e-03\u001b[0m, \u001b[1;36m1.6761e-03\u001b[0m, \u001b[1;36m3.6261e-03\u001b[0m, \u001b[1;36m1.4808e-03\u001b[0m, \u001b[1;36m1.6168e-03\u001b[0m,\n",
       "        \u001b[1;36m1.0901e-03\u001b[0m, \u001b[1;36m9.2691e-03\u001b[0m, \u001b[1;36m8.1332e-03\u001b[0m, \u001b[1;36m1.5820e-03\u001b[0m, \u001b[1;36m1.3692e-03\u001b[0m, \u001b[1;36m1.4557e-03\u001b[0m,\n",
       "        \u001b[1;36m8.0928e-03\u001b[0m, \u001b[1;36m9.6484e-03\u001b[0m, \u001b[1;36m1.8758e-03\u001b[0m, \u001b[1;36m1.8115e-03\u001b[0m, \u001b[1;36m3.5242e-03\u001b[0m, \u001b[1;36m4.7058e-04\u001b[0m,\n",
       "        \u001b[1;36m1.8272e-03\u001b[0m, \u001b[1;36m2.1950e-02\u001b[0m, \u001b[1;36m5.1273e-04\u001b[0m, \u001b[1;36m5.1879e-03\u001b[0m, \u001b[1;36m1.4589e-03\u001b[0m, \u001b[1;36m1.1666e-03\u001b[0m,\n",
       "        \u001b[1;36m3.0689e-03\u001b[0m, \u001b[1;36m1.9141e-03\u001b[0m, \u001b[1;36m2.1647e-03\u001b[0m, \u001b[1;36m1.0434e-03\u001b[0m, \u001b[1;36m2.8031e-03\u001b[0m, \u001b[1;36m1.1630e-03\u001b[0m,\n",
       "        \u001b[1;36m1.8295e-03\u001b[0m, \u001b[1;36m3.2310e-03\u001b[0m, \u001b[1;36m6.2370e-03\u001b[0m, \u001b[1;36m1.4200e-03\u001b[0m, \u001b[1;36m1.0230e-03\u001b[0m, \u001b[1;36m2.0089e-03\u001b[0m,\n",
       "        \u001b[1;36m1.5495e-03\u001b[0m, \u001b[1;36m2.1222e-03\u001b[0m, \u001b[1;36m2.0888e-03\u001b[0m, \u001b[1;36m4.3751e-03\u001b[0m, \u001b[1;36m1.2270e-03\u001b[0m, \u001b[1;36m3.1880e-03\u001b[0m,\n",
       "        \u001b[1;36m5.0257e-03\u001b[0m, \u001b[1;36m5.4528e-04\u001b[0m, \u001b[1;36m7.5410e-03\u001b[0m, \u001b[1;36m2.1704e-03\u001b[0m, \u001b[1;36m5.3805e-03\u001b[0m, \u001b[1;36m1.7737e-03\u001b[0m,\n",
       "        \u001b[1;36m7.4413e-03\u001b[0m, \u001b[1;36m2.0585e-03\u001b[0m, \u001b[1;36m4.5556e-03\u001b[0m, \u001b[1;36m7.9495e-04\u001b[0m, \u001b[1;36m3.7904e-03\u001b[0m, \u001b[1;36m2.2428e-03\u001b[0m,\n",
       "        \u001b[1;36m8.6594e-04\u001b[0m, \u001b[1;36m6.5747e-03\u001b[0m, \u001b[1;36m1.3776e-03\u001b[0m, \u001b[1;36m9.3038e-04\u001b[0m, \u001b[1;36m7.3441e-03\u001b[0m, \u001b[1;36m3.5972e-03\u001b[0m,\n",
       "        \u001b[1;36m1.2152e-03\u001b[0m, \u001b[1;36m5.1727e-04\u001b[0m, \u001b[1;36m1.7770e-03\u001b[0m, \u001b[1;36m3.4995e-03\u001b[0m, \u001b[1;36m1.3624e-02\u001b[0m, \u001b[1;36m1.6583e-03\u001b[0m,\n",
       "        \u001b[1;36m9.9967e-03\u001b[0m, \u001b[1;36m7.3970e-04\u001b[0m, \u001b[1;36m2.1117e-02\u001b[0m, \u001b[1;36m1.8859e-03\u001b[0m, \u001b[1;36m2.7336e-03\u001b[0m, \u001b[1;36m2.2055e-03\u001b[0m,\n",
       "        \u001b[1;36m1.4504e-03\u001b[0m, \u001b[1;36m3.3200e-03\u001b[0m, \u001b[1;36m1.8688e-03\u001b[0m, \u001b[1;36m2.7407e-03\u001b[0m, \u001b[1;36m6.2584e-04\u001b[0m, \u001b[1;36m1.2560e-02\u001b[0m,\n",
       "        \u001b[1;36m4.8169e-03\u001b[0m, \u001b[1;36m1.1238e-03\u001b[0m, \u001b[1;36m5.3523e-03\u001b[0m, \u001b[1;36m8.0058e-03\u001b[0m, \u001b[1;36m6.6113e-04\u001b[0m, \u001b[1;36m1.6834e-03\u001b[0m,\n",
       "        \u001b[1;36m1.9350e-02\u001b[0m, \u001b[1;36m2.8838e-03\u001b[0m, \u001b[1;36m2.0368e-03\u001b[0m, \u001b[1;36m3.0039e-03\u001b[0m, \u001b[1;36m7.5243e-03\u001b[0m, \u001b[1;36m2.0190e-02\u001b[0m,\n",
       "        \u001b[1;36m1.7746e-02\u001b[0m, \u001b[1;36m3.7652e-03\u001b[0m, \u001b[1;36m6.7328e-03\u001b[0m, \u001b[1;36m2.6071e-03\u001b[0m, \u001b[1;36m2.5213e-03\u001b[0m, \u001b[1;36m7.5022e-04\u001b[0m,\n",
       "        \u001b[1;36m1.0250e-02\u001b[0m, \u001b[1;36m8.4815e-03\u001b[0m, \u001b[1;36m2.0921e-03\u001b[0m, \u001b[1;36m1.1326e-02\u001b[0m, \u001b[1;36m1.0964e-03\u001b[0m, \u001b[1;36m1.1758e-03\u001b[0m,\n",
       "        \u001b[1;36m5.9830e-03\u001b[0m, \u001b[1;36m2.7523e-03\u001b[0m, \u001b[1;36m2.4626e-03\u001b[0m, \u001b[1;36m5.3781e-03\u001b[0m, \u001b[1;36m7.7968e-04\u001b[0m, \u001b[1;36m2.0297e-03\u001b[0m,\n",
       "        \u001b[1;36m4.0720e-03\u001b[0m, \u001b[1;36m2.1088e-03\u001b[0m, \u001b[1;36m1.2128e-03\u001b[0m, \u001b[1;36m5.1451e-04\u001b[0m, \u001b[1;36m1.9766e-03\u001b[0m, \u001b[1;36m6.4895e-03\u001b[0m,\n",
       "        \u001b[1;36m1.3522e-03\u001b[0m, \u001b[1;36m7.1332e-04\u001b[0m, \u001b[1;36m6.4894e-04\u001b[0m, \u001b[1;36m8.3827e-04\u001b[0m, \u001b[1;36m2.9361e-03\u001b[0m, \u001b[1;36m2.6965e-03\u001b[0m,\n",
       "        \u001b[1;36m9.4196e-04\u001b[0m, \u001b[1;36m3.5005e-03\u001b[0m, \u001b[1;36m3.7397e-03\u001b[0m, \u001b[1;36m3.7702e-03\u001b[0m, \u001b[1;36m4.9029e-03\u001b[0m, \u001b[1;36m3.4333e-04\u001b[0m,\n",
       "        \u001b[1;36m2.3429e-03\u001b[0m, \u001b[1;36m4.2895e-03\u001b[0m, \u001b[1;36m6.9277e-03\u001b[0m, \u001b[1;36m4.1071e-04\u001b[0m, \u001b[1;36m6.9466e-04\u001b[0m, \u001b[1;36m2.5784e-03\u001b[0m,\n",
       "        \u001b[1;36m8.8763e-04\u001b[0m, \u001b[1;36m4.1872e-04\u001b[0m, \u001b[1;36m1.0700e-03\u001b[0m, \u001b[1;36m1.9523e-03\u001b[0m, \u001b[1;36m1.4162e-03\u001b[0m, \u001b[1;36m3.6430e-03\u001b[0m,\n",
       "        \u001b[1;36m1.3686e-03\u001b[0m, \u001b[1;36m7.9239e-03\u001b[0m, \u001b[1;36m1.2766e-02\u001b[0m, \u001b[1;36m6.6823e-03\u001b[0m, \u001b[1;36m2.7452e-03\u001b[0m, \u001b[1;36m1.9477e-03\u001b[0m,\n",
       "        \u001b[1;36m2.2380e-03\u001b[0m, \u001b[1;36m1.7636e-04\u001b[0m, \u001b[1;36m7.4933e-03\u001b[0m, \u001b[1;36m2.9415e-03\u001b[0m, \u001b[1;36m2.5347e-03\u001b[0m, \u001b[1;36m6.0113e-03\u001b[0m,\n",
       "        \u001b[1;36m7.2143e-03\u001b[0m, \u001b[1;36m1.1278e-02\u001b[0m, \u001b[1;36m2.1535e-03\u001b[0m, \u001b[1;36m1.4381e-03\u001b[0m, \u001b[1;36m2.4671e-03\u001b[0m, \u001b[1;36m7.1914e-03\u001b[0m,\n",
       "        \u001b[1;36m1.4348e-02\u001b[0m, \u001b[1;36m7.1015e-03\u001b[0m, \u001b[1;36m2.0603e-03\u001b[0m, \u001b[1;36m4.9865e-04\u001b[0m\u001b[1m]\u001b[0m\u001b[1m)\u001b[0m\n"
      ]
     },
     "metadata": {},
     "output_type": "display_data"
    }
   ],
   "source": [
    "ground_truth = torch.exp(X-X.max()) / torch.exp(X-X.max()).sum()\n",
    "print(ground_truth)"
   ]
  },
  {
   "cell_type": "markdown",
   "metadata": {},
   "source": [
    "# 2-pass online-softmax\n",
    "只需要扫描两次，就可以得到softmax的结果。第一次是计算分母部分的求和。第二次是计算每个元素的softmax值。"
   ]
  },
  {
   "cell_type": "code",
   "execution_count": 128,
   "metadata": {},
   "outputs": [],
   "source": [
    "X_block = torch.split(X, split_size_or_sections=4)\n",
    "\n",
    "def dfs(X_block, l, r):\n",
    "    if l == r:\n",
    "        block_mx = X_block[l].max()\n",
    "        block_sum = torch.exp(X_block[l] - block_mx).sum()\n",
    "        return block_mx, block_sum\n",
    "    mid = (l + r) // 2\n",
    "    left_mx, left_sum = dfs(X_block, l, mid)\n",
    "    right_mx, right_sum = dfs(X_block, mid + 1, r)\n",
    "    block_mx = max(left_mx, right_mx)\n",
    "    block_sum = left_sum * math.exp(left_mx-block_mx) + right_sum * math.exp(right_mx-block_mx)\n",
    "    return block_mx, block_sum\n",
    "\n",
    "block_mx, block_sum = dfs(X_block, 0, len(X_block) - 1)\n",
    "block_softmax = torch.exp(X - block_mx) / block_sum\n",
    "assert torch.allclose(block_softmax, ground_truth)\n"
   ]
  },
  {
   "cell_type": "markdown",
   "metadata": {},
   "source": [
    "# 2-pass self-attention\n",
    "\n",
    "这里结合一些KV cache的trick，可以得到一个2-pass的self-attention。"
   ]
  },
  {
   "cell_type": "code",
   "execution_count": 130,
   "metadata": {},
   "outputs": [
    {
     "data": {
      "text/html": [
       "<pre style=\"white-space:pre;overflow-x:auto;line-height:normal;font-family:Menlo,'DejaVu Sans Mono',consolas,'Courier New',monospace\"><span style=\"color: #800080; text-decoration-color: #800080; font-weight: bold\">torch.Size</span><span style=\"font-weight: bold\">([</span><span style=\"color: #008080; text-decoration-color: #008080; font-weight: bold\">2</span>, <span style=\"color: #008080; text-decoration-color: #008080; font-weight: bold\">1</span>, <span style=\"color: #008080; text-decoration-color: #008080; font-weight: bold\">4</span><span style=\"font-weight: bold\">])</span>\n",
       "</pre>\n"
      ],
      "text/plain": [
       "\u001b[1;35mtorch.Size\u001b[0m\u001b[1m(\u001b[0m\u001b[1m[\u001b[0m\u001b[1;36m2\u001b[0m, \u001b[1;36m1\u001b[0m, \u001b[1;36m4\u001b[0m\u001b[1m]\u001b[0m\u001b[1m)\u001b[0m\n"
      ]
     },
     "metadata": {},
     "output_type": "display_data"
    },
    {
     "data": {
      "text/html": [
       "<pre style=\"white-space:pre;overflow-x:auto;line-height:normal;font-family:Menlo,'DejaVu Sans Mono',consolas,'Courier New',monospace\"><span style=\"color: #800080; text-decoration-color: #800080; font-weight: bold\">tensor</span><span style=\"font-weight: bold\">([[[</span><span style=\"color: #008080; text-decoration-color: #008080; font-weight: bold\">-0.7168</span>,  <span style=\"color: #008080; text-decoration-color: #008080; font-weight: bold\">0.8399</span>,  <span style=\"color: #008080; text-decoration-color: #008080; font-weight: bold\">0.0859</span>,  <span style=\"color: #008080; text-decoration-color: #008080; font-weight: bold\">0.1067</span><span style=\"font-weight: bold\">]]</span>,\n",
       "\n",
       "        <span style=\"font-weight: bold\">[[</span> <span style=\"color: #008080; text-decoration-color: #008080; font-weight: bold\">0.5376</span>, <span style=\"color: #008080; text-decoration-color: #008080; font-weight: bold\">-0.2856</span>, <span style=\"color: #008080; text-decoration-color: #008080; font-weight: bold\">-0.4897</span>,  <span style=\"color: #008080; text-decoration-color: #008080; font-weight: bold\">0.2870</span><span style=\"font-weight: bold\">]]])</span>\n",
       "</pre>\n"
      ],
      "text/plain": [
       "\u001b[1;35mtensor\u001b[0m\u001b[1m(\u001b[0m\u001b[1m[\u001b[0m\u001b[1m[\u001b[0m\u001b[1m[\u001b[0m\u001b[1;36m-0.7168\u001b[0m,  \u001b[1;36m0.8399\u001b[0m,  \u001b[1;36m0.0859\u001b[0m,  \u001b[1;36m0.1067\u001b[0m\u001b[1m]\u001b[0m\u001b[1m]\u001b[0m,\n",
       "\n",
       "        \u001b[1m[\u001b[0m\u001b[1m[\u001b[0m \u001b[1;36m0.5376\u001b[0m, \u001b[1;36m-0.2856\u001b[0m, \u001b[1;36m-0.4897\u001b[0m,  \u001b[1;36m0.2870\u001b[0m\u001b[1m]\u001b[0m\u001b[1m]\u001b[0m\u001b[1m]\u001b[0m\u001b[1m)\u001b[0m\n"
      ]
     },
     "metadata": {},
     "output_type": "display_data"
    }
   ],
   "source": [
    "# (batch size, sequence length, hidden size)\n",
    "# 这里这考虑单个head的情况\n",
    "b, s, h = 2, 10, 4\n",
    "K, V = torch.randn(b, s, h), torch.randn(b, s, h)\n",
    "Q = torch.randn(b, 1, h) # 这里只考虑单个query\n",
    "\n",
    "ground_truth = torch.softmax(Q @ K.transpose(-1, -2) / math.sqrt(h), dim=-1) @ V\n",
    "print(ground_truth.shape)\n",
    "print(ground_truth)"
   ]
  },
  {
   "cell_type": "code",
   "execution_count": 131,
   "metadata": {},
   "outputs": [
    {
     "data": {
      "text/html": [
       "<pre style=\"white-space:pre;overflow-x:auto;line-height:normal;font-family:Menlo,'DejaVu Sans Mono',consolas,'Courier New',monospace\"><span style=\"color: #800080; text-decoration-color: #800080; font-weight: bold\">tensor</span><span style=\"font-weight: bold\">([[[</span><span style=\"color: #008080; text-decoration-color: #008080; font-weight: bold\">-0.7168</span>,  <span style=\"color: #008080; text-decoration-color: #008080; font-weight: bold\">0.8399</span>,  <span style=\"color: #008080; text-decoration-color: #008080; font-weight: bold\">0.0859</span>,  <span style=\"color: #008080; text-decoration-color: #008080; font-weight: bold\">0.1067</span><span style=\"font-weight: bold\">]]</span>,\n",
       "\n",
       "        <span style=\"font-weight: bold\">[[</span> <span style=\"color: #008080; text-decoration-color: #008080; font-weight: bold\">0.5376</span>, <span style=\"color: #008080; text-decoration-color: #008080; font-weight: bold\">-0.2856</span>, <span style=\"color: #008080; text-decoration-color: #008080; font-weight: bold\">-0.4897</span>,  <span style=\"color: #008080; text-decoration-color: #008080; font-weight: bold\">0.2870</span><span style=\"font-weight: bold\">]]])</span>\n",
       "</pre>\n"
      ],
      "text/plain": [
       "\u001b[1;35mtensor\u001b[0m\u001b[1m(\u001b[0m\u001b[1m[\u001b[0m\u001b[1m[\u001b[0m\u001b[1m[\u001b[0m\u001b[1;36m-0.7168\u001b[0m,  \u001b[1;36m0.8399\u001b[0m,  \u001b[1;36m0.0859\u001b[0m,  \u001b[1;36m0.1067\u001b[0m\u001b[1m]\u001b[0m\u001b[1m]\u001b[0m,\n",
       "\n",
       "        \u001b[1m[\u001b[0m\u001b[1m[\u001b[0m \u001b[1;36m0.5376\u001b[0m, \u001b[1;36m-0.2856\u001b[0m, \u001b[1;36m-0.4897\u001b[0m,  \u001b[1;36m0.2870\u001b[0m\u001b[1m]\u001b[0m\u001b[1m]\u001b[0m\u001b[1m]\u001b[0m\u001b[1m)\u001b[0m\n"
      ]
     },
     "metadata": {},
     "output_type": "display_data"
    }
   ],
   "source": [
    "# * the first pass\n",
    "mx, d = None, None\n",
    "# shape of x: (b, 1, s)\n",
    "# shape of mx: (b, 1, 1)\n",
    "# shape of d: (b, 1, 1)\n",
    "x = torch.zeros(b, 1, s)\n",
    "for i in range(s):\n",
    "    x[:, :, i:i+1] = Q @ K[..., i:i+1, :].transpose(-1, -2) / math.sqrt(h) # (b, 1, d) @ (b, d, 1) -> (b, 1, 1)\n",
    "    if i == 0:\n",
    "        mx = x[:, :, 0:1]\n",
    "        d = torch.ones_like(mx)\n",
    "    else:\n",
    "        new_mx = torch.max(mx, x[:, :, i:i+1])\n",
    "        d = d * torch.exp(mx-new_mx) + torch.exp(x[:, :, i:i+1]-new_mx)\n",
    "        mx = new_mx\n",
    "\n",
    "# * the second pass\n",
    "# shape of d: (b, 1, 1)\n",
    "att = torch.exp(x-mx) / d\n",
    "# shape of att: (b, 1, s)\n",
    "# shape of V: (b, s, d)\n",
    "output = att @ V\n",
    "print(output)\n",
    "# shape of output: (b, 1, d)\n",
    "assert torch.allclose(output, ground_truth)\n"
   ]
  },
  {
   "cell_type": "markdown",
   "metadata": {},
   "source": [
    "# One-pass self-attention\n",
    "注意，在one-pass self-attention中，每次只处理K上的一个新元素，但是其实可以处理K上的一个block。"
   ]
  },
  {
   "cell_type": "code",
   "execution_count": 200,
   "metadata": {},
   "outputs": [
    {
     "data": {
      "text/html": [
       "<pre style=\"white-space:pre;overflow-x:auto;line-height:normal;font-family:Menlo,'DejaVu Sans Mono',consolas,'Courier New',monospace\"><span style=\"color: #800000; text-decoration-color: #800000\">╭─────────────────────────────────────── </span><span style=\"color: #800000; text-decoration-color: #800000; font-weight: bold\">Traceback </span><span style=\"color: #bf7f7f; text-decoration-color: #bf7f7f; font-weight: bold\">(most recent call last)</span><span style=\"color: #800000; text-decoration-color: #800000\"> ───────────────────────────────────────╮</span>\n",
       "<span style=\"color: #800000; text-decoration-color: #800000\">│</span> <span style=\"color: #bfbf7f; text-decoration-color: #bfbf7f\">/var/folders/nx/yz5n2z3176q0dm5gd74skwjr0000gn/T/ipykernel_69533/</span><span style=\"color: #808000; text-decoration-color: #808000; font-weight: bold\">298007217.py</span>:<span style=\"color: #0000ff; text-decoration-color: #0000ff\">9</span> in <span style=\"color: #00ff00; text-decoration-color: #00ff00\">&lt;module&gt;</span>                     <span style=\"color: #800000; text-decoration-color: #800000\">│</span>\n",
       "<span style=\"color: #800000; text-decoration-color: #800000\">│</span>                                                                                                                 <span style=\"color: #800000; text-decoration-color: #800000\">│</span>\n",
       "<span style=\"color: #800000; text-decoration-color: #800000\">│</span> <span style=\"color: #800000; text-decoration-color: #800000; font-style: italic\">[Errno 2] No such file or directory: </span>                                                                           <span style=\"color: #800000; text-decoration-color: #800000\">│</span>\n",
       "<span style=\"color: #800000; text-decoration-color: #800000\">│</span> <span style=\"color: #800000; text-decoration-color: #800000; font-style: italic\">'/var/folders/nx/yz5n2z3176q0dm5gd74skwjr0000gn/T/ipykernel_69533/298007217.py'</span>                                 <span style=\"color: #800000; text-decoration-color: #800000\">│</span>\n",
       "<span style=\"color: #800000; text-decoration-color: #800000\">╰─────────────────────────────────────────────────────────────────────────────────────────────────────────────────╯</span>\n",
       "<span style=\"color: #ff0000; text-decoration-color: #ff0000; font-weight: bold\">RuntimeError: </span><span style=\"color: #800080; text-decoration-color: #800080; font-weight: bold\">expand</span><span style=\"font-weight: bold\">(</span>torch.FloatTensor<span style=\"font-weight: bold\">{[</span><span style=\"color: #008080; text-decoration-color: #008080; font-weight: bold\">2</span>, <span style=\"color: #008080; text-decoration-color: #008080; font-weight: bold\">4</span>, <span style=\"color: #008080; text-decoration-color: #008080; font-weight: bold\">8</span>, <span style=\"color: #008080; text-decoration-color: #008080; font-weight: bold\">1</span><span style=\"font-weight: bold\">]}</span>, <span style=\"color: #808000; text-decoration-color: #808000\">size</span>=<span style=\"font-weight: bold\">[</span><span style=\"color: #008080; text-decoration-color: #008080; font-weight: bold\">2</span>, <span style=\"color: #008080; text-decoration-color: #008080; font-weight: bold\">1</span>, <span style=\"color: #008080; text-decoration-color: #008080; font-weight: bold\">1</span><span style=\"font-weight: bold\">])</span>: the number of sizes provided <span style=\"font-weight: bold\">(</span><span style=\"color: #008080; text-decoration-color: #008080; font-weight: bold\">3</span><span style=\"font-weight: bold\">)</span> must be \n",
       "greater or equal to the number of dimensions in the tensor <span style=\"font-weight: bold\">(</span><span style=\"color: #008080; text-decoration-color: #008080; font-weight: bold\">4</span><span style=\"font-weight: bold\">)</span>\n",
       "</pre>\n"
      ],
      "text/plain": [
       "\u001b[31m╭─\u001b[0m\u001b[31m──────────────────────────────────────\u001b[0m\u001b[31m \u001b[0m\u001b[1;31mTraceback \u001b[0m\u001b[1;2;31m(most recent call last)\u001b[0m\u001b[31m \u001b[0m\u001b[31m──────────────────────────────────────\u001b[0m\u001b[31m─╮\u001b[0m\n",
       "\u001b[31m│\u001b[0m \u001b[2;33m/var/folders/nx/yz5n2z3176q0dm5gd74skwjr0000gn/T/ipykernel_69533/\u001b[0m\u001b[1;33m298007217.py\u001b[0m:\u001b[94m9\u001b[0m in \u001b[92m<module>\u001b[0m                     \u001b[31m│\u001b[0m\n",
       "\u001b[31m│\u001b[0m                                                                                                                 \u001b[31m│\u001b[0m\n",
       "\u001b[31m│\u001b[0m \u001b[3;31m[Errno 2] No such file or directory: \u001b[0m                                                                           \u001b[31m│\u001b[0m\n",
       "\u001b[31m│\u001b[0m \u001b[3;31m'/var/folders/nx/yz5n2z3176q0dm5gd74skwjr0000gn/T/ipykernel_69533/298007217.py'\u001b[0m                                 \u001b[31m│\u001b[0m\n",
       "\u001b[31m╰─────────────────────────────────────────────────────────────────────────────────────────────────────────────────╯\u001b[0m\n",
       "\u001b[1;91mRuntimeError: \u001b[0m\u001b[1;35mexpand\u001b[0m\u001b[1m(\u001b[0mtorch.FloatTensor\u001b[1m{\u001b[0m\u001b[1m[\u001b[0m\u001b[1;36m2\u001b[0m, \u001b[1;36m4\u001b[0m, \u001b[1;36m8\u001b[0m, \u001b[1;36m1\u001b[0m\u001b[1m]\u001b[0m\u001b[1m}\u001b[0m, \u001b[33msize\u001b[0m=\u001b[1m[\u001b[0m\u001b[1;36m2\u001b[0m, \u001b[1;36m1\u001b[0m, \u001b[1;36m1\u001b[0m\u001b[1m]\u001b[0m\u001b[1m)\u001b[0m: the number of sizes provided \u001b[1m(\u001b[0m\u001b[1;36m3\u001b[0m\u001b[1m)\u001b[0m must be \n",
       "greater or equal to the number of dimensions in the tensor \u001b[1m(\u001b[0m\u001b[1;36m4\u001b[0m\u001b[1m)\u001b[0m\n"
      ]
     },
     "metadata": {},
     "output_type": "display_data"
    }
   ],
   "source": [
    "\n",
    "# * the first pass\n",
    "x = torch.zeros(b, 1, s)\n",
    "mx, d, o = None, None, None\n",
    "# shape of x: (b, 1, s)\n",
    "# shape of mx: (b, 1, 1)\n",
    "# shape of d: (b, 1, 1)\n",
    "# shape of o: (b, 1, d)\n",
    "for i in range(s):\n",
    "    x[:, :, i:i+1] = Q @ K[..., i:i+1, :].transpose(-1, -2) / math.sqrt(h) # (b, 1, d) @ (b, d, 1) -> (b, 1, 1)\n",
    "    if i == 0:\n",
    "        mx = x[:, :, 0:1]\n",
    "        d = torch.ones_like(mx)\n",
    "        o = V[..., i:i+1, :]\n",
    "    else:\n",
    "        new_mx = torch.max(mx, x[:, :, i:i+1])\n",
    "        new_d = d * torch.exp(mx-new_mx) + torch.exp(x[:, :, i:i+1]-new_mx)\n",
    "        o = o * d / new_d * torch.exp(mx - new_mx) + V[..., i:i+1, :] * torch.exp(x[:, :, i:i+1] - new_mx) / new_d\n",
    "        mx = new_mx\n",
    "        d = new_d\n",
    "\n",
    "output = o\n",
    "print(output)\n",
    "# shape of output: (b, 1, d)\n",
    "assert torch.allclose(output, ground_truth)\n"
   ]
  },
  {
   "cell_type": "markdown",
   "metadata": {},
   "source": [
    "# Flash attention V1\n"
   ]
  },
  {
   "cell_type": "code",
   "execution_count": 211,
   "metadata": {},
   "outputs": [
    {
     "data": {
      "text/html": [
       "<pre style=\"white-space:pre;overflow-x:auto;line-height:normal;font-family:Menlo,'DejaVu Sans Mono',consolas,'Courier New',monospace\">num_row_tiles: <span style=\"color: #008080; text-decoration-color: #008080; font-weight: bold\">2</span>\n",
       "</pre>\n"
      ],
      "text/plain": [
       "num_row_tiles: \u001b[1;36m2\u001b[0m\n"
      ]
     },
     "metadata": {},
     "output_type": "display_data"
    },
    {
     "data": {
      "text/html": [
       "<pre style=\"white-space:pre;overflow-x:auto;line-height:normal;font-family:Menlo,'DejaVu Sans Mono',consolas,'Courier New',monospace\">num_col_tiles: <span style=\"color: #008080; text-decoration-color: #008080; font-weight: bold\">2</span>\n",
       "</pre>\n"
      ],
      "text/plain": [
       "num_col_tiles: \u001b[1;36m2\u001b[0m\n"
      ]
     },
     "metadata": {},
     "output_type": "display_data"
    }
   ],
   "source": [
    "# 如果q_len=1，其实就是KV cache技巧下的情况\n",
    "batch_size, num_heads, q_len, kv_len, head_dim = 2, 4, 8, 16, 10\n",
    "q_block_size = 4\n",
    "kv_block_size = 8\n",
    "num_row_tiles = q_len // q_block_size\n",
    "num_col_tiles = kv_len // kv_block_size\n",
    "\n",
    "print(f\"num_row_tiles: {num_row_tiles}\")\n",
    "print(f\"num_col_tiles: {num_col_tiles}\")\n"
   ]
  },
  {
   "cell_type": "code",
   "execution_count": 216,
   "metadata": {},
   "outputs": [
    {
     "data": {
      "text/html": [
       "<pre style=\"white-space:pre;overflow-x:auto;line-height:normal;font-family:Menlo,'DejaVu Sans Mono',consolas,'Courier New',monospace\"><span style=\"color: #800080; text-decoration-color: #800080; font-weight: bold\">torch.Size</span><span style=\"font-weight: bold\">([</span><span style=\"color: #008080; text-decoration-color: #008080; font-weight: bold\">2</span>, <span style=\"color: #008080; text-decoration-color: #008080; font-weight: bold\">4</span>, <span style=\"color: #008080; text-decoration-color: #008080; font-weight: bold\">8</span>, <span style=\"color: #008080; text-decoration-color: #008080; font-weight: bold\">10</span><span style=\"font-weight: bold\">])</span>\n",
       "</pre>\n"
      ],
      "text/plain": [
       "\u001b[1;35mtorch.Size\u001b[0m\u001b[1m(\u001b[0m\u001b[1m[\u001b[0m\u001b[1;36m2\u001b[0m, \u001b[1;36m4\u001b[0m, \u001b[1;36m8\u001b[0m, \u001b[1;36m10\u001b[0m\u001b[1m]\u001b[0m\u001b[1m)\u001b[0m\n"
      ]
     },
     "metadata": {},
     "output_type": "display_data"
    },
    {
     "data": {
      "text/html": [
       "<pre style=\"white-space:pre;overflow-x:auto;line-height:normal;font-family:Menlo,'DejaVu Sans Mono',consolas,'Courier New',monospace\"><span style=\"color: #800080; text-decoration-color: #800080; font-weight: bold\">torch.Size</span><span style=\"font-weight: bold\">([</span><span style=\"color: #008080; text-decoration-color: #008080; font-weight: bold\">2</span>, <span style=\"color: #008080; text-decoration-color: #008080; font-weight: bold\">4</span>, <span style=\"color: #008080; text-decoration-color: #008080; font-weight: bold\">8</span>, <span style=\"color: #008080; text-decoration-color: #008080; font-weight: bold\">10</span><span style=\"font-weight: bold\">])</span>\n",
       "</pre>\n"
      ],
      "text/plain": [
       "\u001b[1;35mtorch.Size\u001b[0m\u001b[1m(\u001b[0m\u001b[1m[\u001b[0m\u001b[1;36m2\u001b[0m, \u001b[1;36m4\u001b[0m, \u001b[1;36m8\u001b[0m, \u001b[1;36m10\u001b[0m\u001b[1m]\u001b[0m\u001b[1m)\u001b[0m\n"
      ]
     },
     "metadata": {},
     "output_type": "display_data"
    }
   ],
   "source": [
    "\n",
    "Q = torch.randn(batch_size, num_heads, q_len, head_dim, requires_grad=True)\n",
    "K = torch.randn(batch_size, num_heads, kv_len, head_dim, requires_grad=True)\n",
    "V = torch.randn(batch_size, num_heads, kv_len, head_dim, requires_grad=True)\n",
    "O = torch.zeros_like(Q)\n",
    "# [..., None] 是最后一个维度上增加一个维度的有效操作\n",
    "m = torch.ones(Q.shape[:-1])[..., None] * -float('inf') # shape: (b, h, q_len, 1)\n",
    "d = torch.zeros(Q.shape[:-1])[..., None] # shape: (b, h, q_len, 1)\n",
    "\n",
    "# 这里省略了mask，实际上如果是使用KV cache技巧，只需要考虑q_len=1的情况，这个时候实际上已经考虑mask了\n",
    "ground_truth = torch.softmax(Q @ K.transpose(-1, -2) / math.sqrt(head_dim), dim=-1) @ V\n",
    "print(Q.shape)\n",
    "print(ground_truth.shape)\n",
    "assert Q.shape == ground_truth.shape"
   ]
  },
  {
   "cell_type": "code",
   "execution_count": 217,
   "metadata": {},
   "outputs": [
    {
     "data": {
      "text/html": [
       "<pre style=\"white-space:pre;overflow-x:auto;line-height:normal;font-family:Menlo,'DejaVu Sans Mono',consolas,'Courier New',monospace\"><span style=\"color: #800080; text-decoration-color: #800080; font-weight: bold\">torch.Size</span><span style=\"font-weight: bold\">([</span><span style=\"color: #008080; text-decoration-color: #008080; font-weight: bold\">2</span>, <span style=\"color: #008080; text-decoration-color: #008080; font-weight: bold\">4</span>, <span style=\"color: #008080; text-decoration-color: #008080; font-weight: bold\">8</span>, <span style=\"color: #008080; text-decoration-color: #008080; font-weight: bold\">10</span><span style=\"font-weight: bold\">])</span>\n",
       "</pre>\n"
      ],
      "text/plain": [
       "\u001b[1;35mtorch.Size\u001b[0m\u001b[1m(\u001b[0m\u001b[1m[\u001b[0m\u001b[1;36m2\u001b[0m, \u001b[1;36m4\u001b[0m, \u001b[1;36m8\u001b[0m, \u001b[1;36m10\u001b[0m\u001b[1m]\u001b[0m\u001b[1m)\u001b[0m\n"
      ]
     },
     "metadata": {},
     "output_type": "display_data"
    }
   ],
   "source": [
    "Q_blocks = torch.split(Q, split_size_or_sections=q_block_size, dim=-2)\n",
    "K_blocks = torch.split(K, split_size_or_sections=kv_block_size, dim=-2)\n",
    "V_blocks = torch.split(V, split_size_or_sections=kv_block_size, dim=-2)\n",
    "O_blocks = list(torch.split(O, split_size_or_sections=q_block_size, dim=-2)) # make it into a list, coz tuple assignment is not supported\n",
    "m_blocks = torch.split(m, split_size_or_sections=q_block_size, dim=-2)\n",
    "d_blocks = torch.split(d, split_size_or_sections=q_block_size, dim=-2)\n",
    "\n",
    "for i in range(num_row_tiles):\n",
    "    Qi = Q_blocks[i] # shape: (b, h, q_block_size, head_dim)\n",
    "\n",
    "    oi = O_blocks[i] # shape: (b, h, q_block_size, head_dim)\n",
    "    mi = m_blocks[i] # shape: (b, h, q_block_size, 1)\n",
    "    di = d_blocks[i] # shape: (b, h, q_block_size, 1)\n",
    "\n",
    "    for j in range(num_col_tiles):\n",
    "        Kj = K_blocks[j] # shape: (b, h, kv_block_size, head_dim)\n",
    "        Vj = V_blocks[j] # shape: (b, h, kv_block_size, head_dim)\n",
    "\n",
    "        S_ij = Qi @ Kj.transpose(-1, -2) / math.sqrt(head_dim) # shape: (b, h, q_block_size, kv_block_size)\n",
    "        m_ij = torch.max(S_ij, dim=-1, keepdim=True).values # shape: (b, h, q_block_size, 1)\n",
    "        d_ij = torch.exp(S_ij-m_ij).sum(dim=-1, keepdim=True) # shape: (b, h, q_block_size, 1)\n",
    "        P_ij = torch.exp(S_ij-m_ij) / d_ij # shape: (b, h, q_block_size, kv_block_size)\n",
    "        o_ij = P_ij @ Vj # (b, h, q_block_size, head_dim)\n",
    "\n",
    "        new_mi = torch.maximum(mi, m_ij) # shape: (b, h, q_block_size, 1)\n",
    "        new_di = di * torch.exp(mi - new_mi) + d_ij * torch.exp(m_ij - new_mi) # shape: (b, h, q_block_size, 1)\n",
    "        new_oi = oi * di / new_di * torch.exp(mi - new_mi) + o_ij * d_ij / new_di * torch.exp(m_ij - new_mi) # shape: (b, h, q_block_size, head_dim)\n",
    "\n",
    "        mi = new_mi\n",
    "        di = new_di\n",
    "        oi = new_oi\n",
    "\n",
    "    O_blocks[i] = oi # shape: (b, h, q_block_size, head_dim)\n",
    "\n",
    "O = torch.cat(O_blocks, dim=-2) # shape: (b, h, q_len, head_dim)\n",
    "print(O.shape)\n",
    "assert torch.allclose(O, ground_truth, atol=1e-5)\n",
    "\n",
    "\n"
   ]
  },
  {
   "cell_type": "markdown",
   "metadata": {},
   "source": [
    "# Flash attention V2"
   ]
  },
  {
   "cell_type": "code",
   "execution_count": 220,
   "metadata": {},
   "outputs": [
    {
     "data": {
      "text/html": [
       "<pre style=\"white-space:pre;overflow-x:auto;line-height:normal;font-family:Menlo,'DejaVu Sans Mono',consolas,'Courier New',monospace\"><span style=\"color: #800080; text-decoration-color: #800080; font-weight: bold\">torch.Size</span><span style=\"font-weight: bold\">([</span><span style=\"color: #008080; text-decoration-color: #008080; font-weight: bold\">2</span>, <span style=\"color: #008080; text-decoration-color: #008080; font-weight: bold\">4</span>, <span style=\"color: #008080; text-decoration-color: #008080; font-weight: bold\">8</span>, <span style=\"color: #008080; text-decoration-color: #008080; font-weight: bold\">10</span><span style=\"font-weight: bold\">])</span>\n",
       "</pre>\n"
      ],
      "text/plain": [
       "\u001b[1;35mtorch.Size\u001b[0m\u001b[1m(\u001b[0m\u001b[1m[\u001b[0m\u001b[1;36m2\u001b[0m, \u001b[1;36m4\u001b[0m, \u001b[1;36m8\u001b[0m, \u001b[1;36m10\u001b[0m\u001b[1m]\u001b[0m\u001b[1m)\u001b[0m\n"
      ]
     },
     "metadata": {},
     "output_type": "display_data"
    }
   ],
   "source": [
    "Q_blocks = torch.split(Q, split_size_or_sections=q_block_size, dim=-2)\n",
    "K_blocks = torch.split(K, split_size_or_sections=kv_block_size, dim=-2)\n",
    "V_blocks = torch.split(V, split_size_or_sections=kv_block_size, dim=-2)\n",
    "O_blocks = list(torch.split(O, split_size_or_sections=q_block_size, dim=-2)) # make it into a list, coz tuple assignment is not supported\n",
    "m_blocks = torch.split(m, split_size_or_sections=q_block_size, dim=-2)\n",
    "d_blocks = torch.split(d, split_size_or_sections=q_block_size, dim=-2)\n",
    "\n",
    "for i in range(num_row_tiles):\n",
    "    Qi = Q_blocks[i] # shape: (b, h, q_block_size, head_dim)\n",
    "\n",
    "    oi = O_blocks[i] # shape: (b, h, q_block_size, head_dim)\n",
    "    mi = m_blocks[i] # shape: (b, h, q_block_size, 1)\n",
    "    di = d_blocks[i] # shape: (b, h, q_block_size, 1)\n",
    "\n",
    "    for j in range(num_col_tiles):\n",
    "        Kj = K_blocks[j] # shape: (b, h, kv_block_size, head_dim)\n",
    "        Vj = V_blocks[j] # shape: (b, h, kv_block_size, head_dim)\n",
    "\n",
    "        S_ij = Qi @ Kj.transpose(-1, -2) / math.sqrt(head_dim) # shape: (b, h, q_block_size, kv_block_size)\n",
    "        m_ij = torch.max(S_ij, dim=-1, keepdim=True).values # shape: (b, h, q_block_size, 1)\n",
    "        d_ij = torch.exp(S_ij-m_ij).sum(dim=-1, keepdim=True) # shape: (b, h, q_block_size, 1)\n",
    "        P_ij = torch.exp(S_ij-m_ij) / d_ij # shape: (b, h, q_block_size, kv_block_size)\n",
    "        o_ij = d_ij * P_ij @ Vj # (b, h, q_block_size, head_dim)\n",
    "\n",
    "        new_mi = torch.maximum(mi, m_ij) # shape: (b, h, q_block_size, 1)\n",
    "        new_di = di * torch.exp(mi - new_mi) + d_ij * torch.exp(m_ij - new_mi) # shape: (b, h, q_block_size, 1)\n",
    "        new_oi = oi * torch.exp(mi - new_mi) + o_ij * torch.exp(m_ij - new_mi) # shape: (b, h, q_block_size, head_dim)\n",
    "\n",
    "        mi = new_mi\n",
    "        di = new_di\n",
    "        oi = new_oi\n",
    "\n",
    "    O_blocks[i] = oi / di # shape: (b, h, q_block_size, head_dim)\n",
    "\n",
    "O = torch.cat(O_blocks, dim=-2) # shape: (b, h, q_len, head_dim)\n",
    "print(O.shape)\n",
    "assert torch.allclose(O, ground_truth, atol=1e-5)\n",
    "\n",
    "\n"
   ]
  },
  {
   "cell_type": "code",
   "execution_count": null,
   "metadata": {},
   "outputs": [],
   "source": []
  }
 ],
 "metadata": {
  "kernelspec": {
   "display_name": "base",
   "language": "python",
   "name": "python3"
  },
  "language_info": {
   "codemirror_mode": {
    "name": "ipython",
    "version": 3
   },
   "file_extension": ".py",
   "mimetype": "text/x-python",
   "name": "python",
   "nbconvert_exporter": "python",
   "pygments_lexer": "ipython3",
   "version": "3.10.14"
  }
 },
 "nbformat": 4,
 "nbformat_minor": 2
}
